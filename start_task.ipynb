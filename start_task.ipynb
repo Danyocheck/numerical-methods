{
 "cells": [
  {
   "cell_type": "markdown",
   "metadata": {},
   "source": [
    "# **task for numerical methods.**\n",
    "### V1: interpolating polynomial and cubic spline.\n",
    "*подготовил: Глазков Даниил 207*\n",
    "\n",
    "--------------------------------------------"
   ]
  },
  {
   "cell_type": "markdown",
   "metadata": {},
   "source": [
    "### Постановка задачи интерполяции:\n",
    "1) f(x) задана на [a, b]\n",
    "2) известны значения f(x) в точках:\n",
    "\n",
    "    $a < x_1 < x_2 < ... < x_n$\n",
    "\n",
    "    $f(x_i) = f_i$\n",
    "    \n",
    "    $x_i$ - узлы интерполяции\n",
    "3) Пусть функция F(x) на [a, b] может быть вычислена в любой точке x $\\in$ [a, b]\n",
    "4) $F(x_i) = f(x_i) = f_i, i = 0, 1, ... n$\n",
    "\n",
    "##### Тогда F(x) интерполирует f(x) по узлам $x_i$\n",
    "-------------------------------------------------------------------------------------------------------------------"
   ]
  },
  {
   "cell_type": "markdown",
   "metadata": {},
   "source": [
    "## интерполяция полиномом:\n",
    "$P_n(x_i) = f(x_i) = f_i$\n",
    "\n",
    "Система линейных алгебраических уравнений, определяющих коэффициенты $с_i$ такого многочлена, имеет вид:\n",
    "\n",
    "$P_n(x_i) = c_0 + c_1 * x_i + c_2 * x_i^2 + ... + c_n * x_i ^ n = f(x_i)$\n",
    "\n",
    "определитель этой системы:\n",
    "\n",
    "$\\bigtriangleup = \n",
    " \\begin{pmatrix}\n",
    "  1 & x_0 & x_0^2 & \\cdots & x_0^n \\\\\n",
    "  1 & x_1 & x_1^2 & \\cdots & x_1^n \\\\\n",
    "  \\cdots  & \\cdots  & \\cdots & \\cdots & \\cdots  \\\\\n",
    "  1 & x_n & x_n^2 & \\cdots & x_n^n \\\\ \n",
    " \\end{pmatrix} $ = $\\displaystyle\\prod_{\\substack{\n",
    "                            i,j = 1 \\\\\n",
    "                            i \\neq j\n",
    "                            }} \n",
    "                            (x_i - x_j)$\n",
    "\n",
    "определитель отличен от нуля, и интерполирование функции f(x) по её значениям в узлах $x_i$ с помощью многочлена $P_n(x)$ всегда возможно и единственно. \n",
    "\n",
    "------------"
   ]
  },
  {
   "cell_type": "markdown",
   "metadata": {},
   "source": [
    "## интерполяция полиномом в форме Лагранжа:\n",
    "\n",
    "$x_0 < x_1 < ... < x_n$\n",
    "\n",
    "$P_n(x) = f(x_0) * Q_0(x) + f(x_1) * Q_1(x) + ... + f(x_n) * Q_n(x)$, где $Q_i(x)$ - полином степени n\n",
    "\n",
    "$Q_i(x) = \\displaystyle\\prod_{\\substack{\n",
    "                            j = 0 \\\\\n",
    "                            j \\neq i\n",
    "                            }} \n",
    "                            \\frac{x - x_j}{x_i - x_j}$\n",
    "\n",
    "\n",
    "$P_n(x) = \\displaystyle\\sum_{i = 0}^n f(x_i) * \\displaystyle\\prod_{\\substack{\n",
    "                            j = 0 \\\\\n",
    "                            j \\neq i\n",
    "                            }} \n",
    "                            \\frac{x - x_j}{x_i - x_j}$ - формула Лагранжа\n",
    "\n",
    "----------------\n",
    "\n",
    "\n"
   ]
  },
  {
   "cell_type": "markdown",
   "metadata": {},
   "source": [
    "\n",
    "\n",
    "таблица значений функции:\n",
    "\n",
    "\\begin{pmatrix}\n",
    "    x & y \\\\\n",
    "    0.0 & 0.0 \\\\\n",
    "    0.2 & 1.027775 \\\\\n",
    "    0.4 & 1.356512 \\\\\n",
    "    0.6 & 0.257137 \\\\\n",
    "    0.8 & 1.684295 \\\\\n",
    "    1.0 & 2.606626 \\\\\n",
    "    1.2 & 0.927692 \\\\\n",
    "    1.4 & 2.664212 \\\\\n",
    "    1.6 & 4.900323 \\\\\n",
    "    1.8 & 2.493172 \\\\\n",
    "    2.0 & 4.019803 \\\\\n",
    " \\end{pmatrix}\n"
   ]
  },
  {
   "cell_type": "markdown",
   "metadata": {},
   "source": [
    "----------------"
   ]
  },
  {
   "cell_type": "markdown",
   "metadata": {},
   "source": [
    "## Интерполяционный полином в форме Ньютона:\n",
    "\n",
    "$x_0 < x_1 < ... < x_n$\n",
    "\n",
    "$P_n(x) = P_0(x) + \\displaystyle\\sum_{i = 1}^n [P_i(x) - P_{i-1}(x)]$\n",
    "\n",
    "$P_i - P_{i-1} = A_i * (x - x_0) * (x - x_1) * ... * (x - x_{i-1})$\n",
    "\n",
    "$A_i = \\displaystyle\\sum_{k = 0}^i f(x_k) * \\displaystyle\\prod_{\\substack{\n",
    "                            j = 0 \\\\\n",
    "                            j \\neq k\n",
    "                            }} \n",
    "                            \\frac{1}{x_j - x_k}$\n",
    "\n",
    "----------------"
   ]
  },
  {
   "cell_type": "markdown",
   "metadata": {},
   "source": [
    "## Плюсы и минусы интерполяции полиномом Ньютона:\n",
    "+) эффективность решения, расширяемость\n",
    "\n",
    "-) нужно считать коэффициенты, которые зависят от значений функции в узлах, что может быть неудобно\n",
    "\n",
    "## Плюсы и минусы интерполяции полиномом Лагранжа:\n",
    "\n",
    "+) простота решения, не нужно считать коэффициенты\n",
    "\n",
    "-) большое количество действиый, если добавить ещё один узел, то нужно будет пересчитать все коэффициенты\n",
    "\n",
    "----------------"
   ]
  },
  {
   "cell_type": "markdown",
   "metadata": {},
   "source": [
    "# Интерполяция кубическими сплайнами\n",
    "\n",
    "$a = x_0 < x_1 < ... < x_n = b; f(x_i) = f_i$\n",
    "\n",
    "S(x) - кубический сплайн для {$f_i$}, проходящий через точки $(x_i, f_i)$\n",
    "\n",
    "1) S - кубический полином\n",
    "\n",
    "2) S(x), S'(x), S''(x) - непрерывны на $[a, b]$\n",
    "\n",
    "3) S(x_i) = f_i, i = 0, 1, ..., n\n",
    "\n",
    "4) S\"(x_0) = S\"(x_n) = 0\n",
    "\n",
    "\n",
    "## Общая формула кубического сплайна\n",
    "$Si = ai + bi(x-xi) + ci/2(x-xi)^2 + di/6(x-xi)^3$\n",
    "\n",
    "----------------"
   ]
  },
  {
   "cell_type": "markdown",
   "metadata": {},
   "source": [
    "## Сравнение интерполяции полиномом и интерполяцией кубическими сплайнами:\n",
    "\n",
    "\n",
    "\n",
    "\n"
   ]
  },
  {
   "cell_type": "markdown",
   "metadata": {},
   "source": [
    "далее представлен код, реализующий интерполяцию кубическими сплайнами, полиномом в форме лагранжа и полиномом в форме ньютона фукнции, заданной по точкам:"
   ]
  },
  {
   "cell_type": "code",
   "execution_count": 20,
   "metadata": {},
   "outputs": [
    {
     "data": {
      "image/png": "[encoded data removed]",
      "text/plain": [
       "<Figure size 640x480 with 1 Axes>"
      ]
     },
     "metadata": {},
     "output_type": "display_data"
    },
    {
     "name": "stdout",
     "output_type": "stream",
     "text": [
      "Коэффициэнты кубических сплайнов на отрезках\n",
      "[ 0.0 , 0.2 ]   a = 1.0   b = 4.8     c/2 = -2.9    d/6 = -4.8\n",
      "[ 0.2 , 0.4 ]   a = 1.4   b = -4.0     c/2 = -41.0    d/6 = -63.5\n",
      "[ 0.4 , 0.6 ]   a = 0.3   b = -0.3     c/2 = 59.6    d/6 = 167.6\n",
      "[ 0.6 , 0.8 ]   a = 1.7   b = 10.0     c/2 = -8.0    d/6 = -112.6\n",
      "[ 0.8 , 1.0 ]   a = 2.6   b = -4.7     c/2 = -65.7    d/6 = -96.2\n",
      "[ 1.0 , 1.2 ]   a = 0.9   b = -2.7     c/2 = 75.5    d/6 = 235.2\n",
      "[ 1.2 , 1.4 ]   a = 2.7   b = 16.4     c/2 = 20.0    d/6 = -92.5\n",
      "[ 1.4 , 1.6 ]   a = 4.9   b = -3.2     c/2 = -117.9    d/6 = -229.7\n",
      "[ 1.6 , 1.8 ]   a = 2.5   b = -6.1     c/2 = 103.2    d/6 = 368.5\n",
      "[ 1.8 , 2.0 ]   a = 4.0   b = 14.5     c/2 = 0.0    d/6 = -172.0\n"
     ]
    },
    {
     "data": {
      "image/png": "[encoded data removed]",
      "text/plain": [
       "<Figure size 640x480 with 1 Axes>"
      ]
     },
     "metadata": {},
     "output_type": "display_data"
    }
   ],
   "source": [
    "# import libraries\n",
    "import numpy as np\n",
    "import matplotlib.pyplot as plt\n",
    "from scipy import interpolate\n",
    "\n",
    "# function for calculating the value of the polynomial in Lagrange form\n",
    "def lagrange(xi, yi, x):\n",
    "    \"\"\"Evaluate the Lagrange interpolating polynomial at x\"\"\"\n",
    "    length = len(xi)\n",
    "    value = 0\n",
    "    for j in range(length):\n",
    "        term = yi[j]\n",
    "        for i in range(length):\n",
    "            if i == j:\n",
    "                continue\n",
    "            term *= (x - xi[i])/(xi[j] - xi[i])\n",
    "        value += term\n",
    "    return value\n",
    "\n",
    "# function for drawing a graph\n",
    "def lagrange_plot(xi, yi, x):\n",
    "    \"\"\"Plot the Lagrange interpolating polynomial\"\"\"\n",
    "    plt.plot(x, lagrange(xi, yi, x), 'r-')\n",
    "\n",
    "\n",
    "def devided_differences(xi, yi, k):\n",
    "    result = 0\n",
    "    for j in range(k + 1):\n",
    "        mul = 1\n",
    "        for i in range(k + 1):\n",
    "            if i != j:\n",
    "                mul *= (xi[j] - xi[i])\n",
    "        result += yi[j] / mul\n",
    "    return result\n",
    "\n",
    "def create_Newton_polynomial(xi, yi, x):\n",
    "    div_diff = []\n",
    "    for i in range(1, len(xi)):\n",
    "        div_diff.append(devided_differences(xi, yi, i))\n",
    "    def Newton_polynomial(x):\n",
    "        result = yi[0]\n",
    "        for i in range(1, len(xi)):\n",
    "            mul = 1\n",
    "            for j in range(i):\n",
    "                mul *= (x - xi[j])\n",
    "            result += div_diff[i - 1] * mul\n",
    "        return result\n",
    "    return Newton_polynomial\n",
    "\n",
    "\n",
    "def Newton_plot(xi, yi, x):\n",
    "    \"\"\"Plot the Newton interpolating polynomial\"\"\"\n",
    "    plt.plot(x, create_Newton_polynomial(xi, yi, x)(x), 'r-')\n",
    "\n",
    "\n",
    "def main():\n",
    "    '''# Interpolate f(x), specified by points:'''\n",
    "    xi = np.array([0, 0.2, 0.4, 0.6, 0.8, 1.0, 1.2, 1.4, 1.6, 1.8, 2.0])\n",
    "    yi = np.array([0.0000, 1.027775, 1.356512, 0.257137, 1.684295, 2.606626, 0.927692, 2.664212, 4.900323, 2.493172, 4.019803])\n",
    "\n",
    "    # Plot the Lagrange interpolating polynomial\n",
    "    # x = np.linspace(0, 2, 100)\n",
    "    # lagrange_plot(xi, yi, x)\n",
    "\n",
    "    # Plot the Newton interpolating polynomial\n",
    "    x = np.linspace(0, 2, 100)\n",
    "    Newton_plot(xi, yi, x)\n",
    "    \n",
    "\n",
    "    # Plot the original function\n",
    "    plt.plot(xi, yi, 'o')\n",
    "    plt.show()\n",
    "\n",
    "    h = 0.2\n",
    "    Help_Matrix = np.array([[4, 1, 0, 0, 0, 0, 0, 0, 0],\n",
    "                    [1, 4, 1, 0, 0, 0, 0, 0, 0],\n",
    "                    [0, 1, 4, 1, 0, 0, 0, 0, 0],\n",
    "                    [0, 0, 1, 4, 1, 0, 0, 0, 0],\n",
    "                    [0, 0, 0, 1, 4, 1, 0, 0, 0],\n",
    "                    [0, 0, 0, 0, 1, 4, 1, 0, 0],\n",
    "                    [0, 0, 0, 0, 0, 1, 4, 1, 0],\n",
    "                    [0, 0, 0, 0, 0, 0, 1, 4, 1],\n",
    "                    [0, 0, 0, 0, 0, 0, 0, 1, 4]])\n",
    "\n",
    "    column = np.array([(6 * (yi[0] - 2 * yi[1] + yi[2])) / (h * h), (6 * (yi[1] - 2 * yi[2] + yi[3]))/ (h*h),\n",
    "               (6 * (yi[2] - 2 * yi[3] + yi[4]))/ (h * h), (6 * (yi[3] - 2 * yi[4] + yi[5]))/(h * h),\n",
    "               (6 * (yi[4] - 2 * yi[5] + yi[6]))/ (h * h), (6 * (yi[5] - 2 * yi[6] + yi[7]))/ (h * h),\n",
    "               (6 * (yi[6] - 2 * yi[7] + yi[8]))/ (h * h), (6 * (yi[7] - 2 * yi[8] + yi[9]))/ (h * h),\n",
    "               (6 * (yi[8] - 2 * yi[9] + yi[10]))/ (h * h)])\n",
    "\n",
    "    \n",
    "\n",
    "    cl = np.linalg.solve(Help_Matrix, column)\n",
    "    n = 11\n",
    "    a = [0] * n\n",
    "    d = [0] * n\n",
    "    c = [0] * n\n",
    "    b = [0] * n\n",
    "    for i in range(1,n - 1):\n",
    "        c[i] = cl[i-1]\n",
    "    c[0] = 0\n",
    "    c[10] = 0\n",
    "    print(\"Коэффициэнты кубических сплайнов на отрезках\")\n",
    "    for i in range(1,n):\n",
    "        a[i] = yi[i]\n",
    "        d[i] = (c[i] - c[i-1]) / h\n",
    "        b[i] = 0.5 * h * c[i] - (1/6) * h * d[i] * h + (yi[i] - yi[i-1]) / h\n",
    "        print(\"[\",xi[i-1],\",\",xi[i],\"]   a =\",round(a[i],1), \"  b =\", round(b[i],1), \"    c/2 =\",round(c[i]/2,1),\n",
    "            \"   d/6 =\", round(d[i]/6,1))\n",
    "\n",
    "\n",
    "    #графическое представление кубического сплайна\n",
    "\n",
    "    def f(x):\n",
    "        tck = interpolate.splrep(xi, yi)\n",
    "        return interpolate.splev(x, tck)\n",
    "    x = np.arange(0, 2, 0.001)\n",
    "    y = f(x)\n",
    "    plt.plot(x, y)\n",
    "    plt.show()\n",
    "\n",
    "\n",
    "if __name__ == '__main__':\n",
    "    main()"
   ]
  }
 ],
 "metadata": {
  "kernelspec": {
   "display_name": "Python 3.11.0 64-bit",
   "language": "python",
   "name": "python3"
  },
  "language_info": {
   "codemirror_mode": {
    "name": "ipython",
    "version": 3
   },
   "file_extension": ".py",
   "mimetype": "text/x-python",
   "name": "python",
   "nbconvert_exporter": "python",
   "pygments_lexer": "ipython3",
   "version": "3.11.0"
  },
  "orig_nbformat": 4,
  "vscode": {
   "interpreter": {
    "hash": "aee8b7b246df8f9039afb4144a1f6fd8d2ca17a180786b69acc140d282b71a49"
   }
  }
 },
 "nbformat": 4,
 "nbformat_minor": 2
}
